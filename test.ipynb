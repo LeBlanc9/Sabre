{
 "cells": [
  {
   "cell_type": "code",
   "execution_count": 5,
   "metadata": {},
   "outputs": [
    {
     "name": "stdout",
     "output_type": "stream",
     "text": [
      "The autoreload extension is already loaded. To reload it, use:\n",
      "  %reload_ext autoreload\n"
     ]
    }
   ],
   "source": [
    "from build.sabre import CouplingCircuit\n",
    "from build.sabre import Backend as Backend_cpp\n",
    "from build.sabre import Model as Model_cpp\n",
    "from build.sabre import SabreLayout as SabreLayout_cpp \n",
    "from build.sabre import SabreRouting as SabreRouting_cpp\n",
    "from build.sabre import DAGCircuit as DAGCircuit_cpp\n",
    "from build.sabre import CouplingCircuit as CouplingCircuit_cpp\n",
    "from build.sabre import InstructionNode as InstructionNode_cpp\n",
    "from build.sabre import Layout as Layout_cpp\n",
    "\n",
    "import numpy as np\n",
    "import time\n",
    "\n",
    "import sys\n",
    "sys.path.append(\"/Users/air/workspace/qusteed\")\n",
    "from qusteed.dag.dag_circuit import DAGCircuit\n",
    "from qusteed.passes.mapping.routing.sabre_routing import SabreRouting\n",
    "from qusteed.passes.model import Model\n",
    "from qusteed.backends.backend import Backend\n",
    "from qusteed.passes.datadict import DataDict\n",
    "from qusteed.dag.circuit_dag  import circuit_to_dag, dag_to_circuit, draw_dag\n",
    "from qusteed.dag.instruction_node import InstructionNode \n",
    "from qusteed.graph.couplinggraph import CouplingGraph\n",
    "from qusteed.utils.random_circuit import RandomCircuit \n",
    "\n",
    "from main import *\n",
    "\n",
    "%load_ext autoreload\n",
    "%autoreload 2"
   ]
  },
  {
   "cell_type": "code",
   "execution_count": 66,
   "metadata": {},
   "outputs": [
    {
     "name": "stdout",
     "output_type": "stream",
     "text": [
      "Backend Created\n",
      "Model with backend created\n"
     ]
    }
   ],
   "source": [
    "c_circuit, c_circuit_cpp = test_coupling()\n",
    "\n",
    "model = get_preset_model()\n",
    "\n",
    "qc = get_random_qc()\n",
    "dag = circuit_to_dag(qc)\n",
    "draw_dag(dag)\n",
    "\n",
    "dag_cpp = dag_to_cppDag(dag)\n",
    "#dag_cpp.draw_self()"
   ]
  },
  {
   "cell_type": "code",
   "execution_count": 80,
   "metadata": {},
   "outputs": [
    {
     "name": "stdout",
     "output_type": "stream",
     "text": [
      "---- python ----\n",
      "python-time: 0.0177001953125\n"
     ]
    }
   ],
   "source": [
    "print(\"---- python ----\")\n",
    "sabre_routing = SabreRouting()\n",
    "sabre_routing.modify_dag = True\n",
    "sabre_routing.set_model(model)\n",
    "st = time.time()\n",
    "map_dag = sabre_routing.run(dag)\n",
    "print(f\"python-time: {time.time()-st}\")\n",
    "# draw_dag(dag)\n"
   ]
  },
  {
   "cell_type": "code",
   "execution_count": 65,
   "metadata": {},
   "outputs": [],
   "source": [
    "# draw_dag(map_dag)"
   ]
  },
  {
   "cell_type": "code",
   "execution_count": 95,
   "metadata": {},
   "outputs": [
    {
     "name": "stdout",
     "output_type": "stream",
     "text": [
      "----  c++   ----\n",
      "cpp-time: 0.003676891326904297\n"
     ]
    }
   ],
   "source": [
    "print(\"----  c++   ----\")\n",
    "model_cpp = Model_cpp() \n",
    "model_cpp.init_layout =  Layout_cpp(sabre_routing.model._layout[\"initial_layout\"].v2p)\n",
    "sabre_routing_cpp = SabreRouting_cpp(c_circuit_cpp)\n",
    "sabre_routing_cpp.modify_dag = True\n",
    "sabre_routing_cpp.set_model(model_cpp)\n",
    "st = time.time()\n",
    "mag_dag_cpp = sabre_routing_cpp.run(dag_cpp)\n",
    "print(f\"cpp-time: {time.time()-st}\")\n",
    "# mag_dag_cpp.draw_self()\n",
    "# dag_cpp.print_self()"
   ]
  }
 ],
 "metadata": {
  "kernelspec": {
   "display_name": "quantum",
   "language": "python",
   "name": "python3"
  },
  "language_info": {
   "codemirror_mode": {
    "name": "ipython",
    "version": 3
   },
   "file_extension": ".py",
   "mimetype": "text/x-python",
   "name": "python",
   "nbconvert_exporter": "python",
   "pygments_lexer": "ipython3",
   "version": "3.10.13"
  }
 },
 "nbformat": 4,
 "nbformat_minor": 2
}
